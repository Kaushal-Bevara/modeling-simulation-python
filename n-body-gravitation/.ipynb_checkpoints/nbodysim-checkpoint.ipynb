{
 "cells": [
  {
   "cell_type": "markdown",
   "id": "267e1ba5-d6a0-4d07-b0c8-910ba1c20010",
   "metadata": {},
   "source": [
    "# N Body Gravitation Simulation"
   ]
  },
  {
   "cell_type": "code",
   "execution_count": 1,
   "id": "25abbbb3-573a-425d-85ec-25cedda59633",
   "metadata": {},
   "outputs": [],
   "source": [
    "import matplotlib\n",
    "import numpy as np\n",
    "import sympy as smp"
   ]
  },
  {
   "cell_type": "code",
   "execution_count": null,
   "id": "f7da499f-cf56-462d-abd3-b7bbdc76731a",
   "metadata": {},
   "outputs": [],
   "source": [
    "class Body:\n",
    "    def __init__(self, pos, vel, m):\n",
    "        self.pos = pos\n",
    "        self.vel = vel\n",
    "        self.m = m\n",
    "        self.a = np.array((0, 0,0))"
   ]
  }
 ],
 "metadata": {
  "kernelspec": {
   "display_name": "Python 3 (ipykernel)",
   "language": "python",
   "name": "python3"
  },
  "language_info": {
   "codemirror_mode": {
    "name": "ipython",
    "version": 3
   },
   "file_extension": ".py",
   "mimetype": "text/x-python",
   "name": "python",
   "nbconvert_exporter": "python",
   "pygments_lexer": "ipython3",
   "version": "3.10.16"
  }
 },
 "nbformat": 4,
 "nbformat_minor": 5
}
