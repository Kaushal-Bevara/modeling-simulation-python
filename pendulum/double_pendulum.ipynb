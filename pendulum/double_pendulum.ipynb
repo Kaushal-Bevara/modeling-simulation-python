{
 "cells": [
  {
   "cell_type": "markdown",
   "id": "6c401daa-bd57-4eff-b994-ffa83647d899",
   "metadata": {},
   "source": [
    "# Double Pendulum\n",
    "\n",
    "A double pendulum simulation using Lagrangian mechanics."
   ]
  },
  {
   "cell_type": "code",
   "execution_count": 1,
   "id": "467f695f-60f9-4ca9-8bac-38ebafcdd69e",
   "metadata": {},
   "outputs": [],
   "source": [
    "import numpy as np\n",
    "from scipy.integrate import odeint\n",
    "import sympy as smp\n",
    "import matplotlib.pyplot as plt\n",
    "from matplotlib import animation\n",
    "from mpl_toolkits.mplot3d import Axes3D\n",
    "import matplotlib.animation"
   ]
  },
  {
   "cell_type": "markdown",
   "id": "184565cb-6a2b-41d1-99f7-85eabd943535",
   "metadata": {},
   "source": [
    "### Symbols\n",
    "\n",
    "We will represent the time in seconds using the symbol t. The constants g, m1, m2, l1, l2 will represent the gravitational force, masses of the pendulums, and the length of the pendulums, respectively."
   ]
  },
  {
   "cell_type": "code",
   "execution_count": 2,
   "id": "63b7b7f9-1bbd-4cd5-8d3f-08018e1fe8a9",
   "metadata": {},
   "outputs": [],
   "source": [
    "t = smp.symbols('t')\n",
    "\n",
    "g, m1, m2, l1, l2 = smp.symbols(\"g m1:3 l1:3\", positive = True)\n",
    "\n",
    "the1, the2 = smp.symbols(r'\\theta_1, \\theta_2', cls=smp.Function)\n",
    "\n",
    "the1 = the1(t)\n",
    "the2 = the2(t)\n",
    "\n",
    "x1 = smp.sin(the1) * l1\n",
    "y1 = -smp.cos(the1) * l1\n",
    "x2 = x1 + smp.sin(the2) * l2\n",
    "y2 = y1 - smp.cos(the2) * l2\n"
   ]
  },
  {
   "cell_type": "code",
   "execution_count": 3,
   "id": "99054ecb-eb75-4017-9dce-bb0e9fc49c2e",
   "metadata": {},
   "outputs": [
    {
     "data": {
      "text/latex": [
       "$\\displaystyle l_{1} \\sin{\\left(\\theta_{1}{\\left(t \\right)} \\right)} \\frac{d^{2}}{d t^{2}} \\theta_{1}{\\left(t \\right)} + l_{1} \\cos{\\left(\\theta_{1}{\\left(t \\right)} \\right)} \\left(\\frac{d}{d t} \\theta_{1}{\\left(t \\right)}\\right)^{2} + l_{2} \\sin{\\left(\\theta_{2}{\\left(t \\right)} \\right)} \\frac{d^{2}}{d t^{2}} \\theta_{2}{\\left(t \\right)} + l_{2} \\cos{\\left(\\theta_{2}{\\left(t \\right)} \\right)} \\left(\\frac{d}{d t} \\theta_{2}{\\left(t \\right)}\\right)^{2}$"
      ],
      "text/plain": [
       "l1*sin(\\theta_1(t))*Derivative(\\theta_1(t), (t, 2)) + l1*cos(\\theta_1(t))*Derivative(\\theta_1(t), t)**2 + l2*sin(\\theta_2(t))*Derivative(\\theta_2(t), (t, 2)) + l2*cos(\\theta_2(t))*Derivative(\\theta_2(t), t)**2"
      ]
     },
     "execution_count": 3,
     "metadata": {},
     "output_type": "execute_result"
    }
   ],
   "source": [
    "the1_d = smp.diff(the1, t)\n",
    "the2_d = smp.diff(the2, t)\n",
    "x1_dd = smp.diff(smp.diff(x1, t), t)\n",
    "y1_d = smp.diff(y2, t)\n",
    "y1_dd = smp.diff(smp.diff(y1, t), t)\n",
    "x2_d = smp.diff(x2, t)\n",
    "x2_dd = smp.diff(smp.diff(x2, t), t)\n",
    "y2_dd = smp.diff(smp.diff(y2, t), t)\n",
    "y2_dd"
   ]
  },
  {
   "cell_type": "markdown",
   "id": "b3fc5da3",
   "metadata": {},
   "source": [
    "#### Equations for The Second Derivative of Angles"
   ]
  },
  {
   "cell_type": "code",
   "execution_count": 4,
   "id": "28af4a29",
   "metadata": {},
   "outputs": [],
   "source": [
    "eq1 = smp.Eq(smp.sin(the1) * (m1*y1_dd + m2*y2_dd + (m2 + m1)*g), -smp.cos(the1) * (m1 * x1_dd + m2 * x2_dd))\n",
    "eq2 = smp.Eq(smp.sin(the2) * (m2 * (y2_dd + g)), -smp.cos(the2) * m2 * x2_dd)"
   ]
  },
  {
   "cell_type": "code",
   "execution_count": 5,
   "id": "7ab6af39-5236-4659-87a2-21f6aba48ed1",
   "metadata": {},
   "outputs": [
    {
     "data": {
      "text/latex": [
       "$\\displaystyle \\left(g \\left(m_{1} + m_{2}\\right) + m_{1} \\left(l_{1} \\sin{\\left(\\theta_{1}{\\left(t \\right)} \\right)} \\frac{d^{2}}{d t^{2}} \\theta_{1}{\\left(t \\right)} + l_{1} \\cos{\\left(\\theta_{1}{\\left(t \\right)} \\right)} \\left(\\frac{d}{d t} \\theta_{1}{\\left(t \\right)}\\right)^{2}\\right) + m_{2} \\left(l_{1} \\sin{\\left(\\theta_{1}{\\left(t \\right)} \\right)} \\frac{d^{2}}{d t^{2}} \\theta_{1}{\\left(t \\right)} + l_{1} \\cos{\\left(\\theta_{1}{\\left(t \\right)} \\right)} \\left(\\frac{d}{d t} \\theta_{1}{\\left(t \\right)}\\right)^{2} + l_{2} \\sin{\\left(\\theta_{2}{\\left(t \\right)} \\right)} \\frac{d^{2}}{d t^{2}} \\theta_{2}{\\left(t \\right)} + l_{2} \\cos{\\left(\\theta_{2}{\\left(t \\right)} \\right)} \\left(\\frac{d}{d t} \\theta_{2}{\\left(t \\right)}\\right)^{2}\\right)\\right) \\sin{\\left(\\theta_{1}{\\left(t \\right)} \\right)} = - \\left(m_{1} \\left(- l_{1} \\sin{\\left(\\theta_{1}{\\left(t \\right)} \\right)} \\left(\\frac{d}{d t} \\theta_{1}{\\left(t \\right)}\\right)^{2} + l_{1} \\cos{\\left(\\theta_{1}{\\left(t \\right)} \\right)} \\frac{d^{2}}{d t^{2}} \\theta_{1}{\\left(t \\right)}\\right) + m_{2} \\left(- l_{1} \\sin{\\left(\\theta_{1}{\\left(t \\right)} \\right)} \\left(\\frac{d}{d t} \\theta_{1}{\\left(t \\right)}\\right)^{2} + l_{1} \\cos{\\left(\\theta_{1}{\\left(t \\right)} \\right)} \\frac{d^{2}}{d t^{2}} \\theta_{1}{\\left(t \\right)} - l_{2} \\sin{\\left(\\theta_{2}{\\left(t \\right)} \\right)} \\left(\\frac{d}{d t} \\theta_{2}{\\left(t \\right)}\\right)^{2} + l_{2} \\cos{\\left(\\theta_{2}{\\left(t \\right)} \\right)} \\frac{d^{2}}{d t^{2}} \\theta_{2}{\\left(t \\right)}\\right)\\right) \\cos{\\left(\\theta_{1}{\\left(t \\right)} \\right)}$"
      ],
      "text/plain": [
       "Eq((g*(m1 + m2) + m1*(l1*sin(\\theta_1(t))*Derivative(\\theta_1(t), (t, 2)) + l1*cos(\\theta_1(t))*Derivative(\\theta_1(t), t)**2) + m2*(l1*sin(\\theta_1(t))*Derivative(\\theta_1(t), (t, 2)) + l1*cos(\\theta_1(t))*Derivative(\\theta_1(t), t)**2 + l2*sin(\\theta_2(t))*Derivative(\\theta_2(t), (t, 2)) + l2*cos(\\theta_2(t))*Derivative(\\theta_2(t), t)**2))*sin(\\theta_1(t)), -(m1*(-l1*sin(\\theta_1(t))*Derivative(\\theta_1(t), t)**2 + l1*cos(\\theta_1(t))*Derivative(\\theta_1(t), (t, 2))) + m2*(-l1*sin(\\theta_1(t))*Derivative(\\theta_1(t), t)**2 + l1*cos(\\theta_1(t))*Derivative(\\theta_1(t), (t, 2)) - l2*sin(\\theta_2(t))*Derivative(\\theta_2(t), t)**2 + l2*cos(\\theta_2(t))*Derivative(\\theta_2(t), (t, 2))))*cos(\\theta_1(t)))"
      ]
     },
     "execution_count": 5,
     "metadata": {},
     "output_type": "execute_result"
    }
   ],
   "source": [
    "eq1"
   ]
  },
  {
   "cell_type": "code",
   "execution_count": 6,
   "id": "5dcdb3cd-d29b-4478-8215-7415e8ca5b2c",
   "metadata": {},
   "outputs": [
    {
     "data": {
      "text/latex": [
       "$\\displaystyle m_{2} \\left(g + l_{1} \\sin{\\left(\\theta_{1}{\\left(t \\right)} \\right)} \\frac{d^{2}}{d t^{2}} \\theta_{1}{\\left(t \\right)} + l_{1} \\cos{\\left(\\theta_{1}{\\left(t \\right)} \\right)} \\left(\\frac{d}{d t} \\theta_{1}{\\left(t \\right)}\\right)^{2} + l_{2} \\sin{\\left(\\theta_{2}{\\left(t \\right)} \\right)} \\frac{d^{2}}{d t^{2}} \\theta_{2}{\\left(t \\right)} + l_{2} \\cos{\\left(\\theta_{2}{\\left(t \\right)} \\right)} \\left(\\frac{d}{d t} \\theta_{2}{\\left(t \\right)}\\right)^{2}\\right) \\sin{\\left(\\theta_{2}{\\left(t \\right)} \\right)} = - m_{2} \\left(- l_{1} \\sin{\\left(\\theta_{1}{\\left(t \\right)} \\right)} \\left(\\frac{d}{d t} \\theta_{1}{\\left(t \\right)}\\right)^{2} + l_{1} \\cos{\\left(\\theta_{1}{\\left(t \\right)} \\right)} \\frac{d^{2}}{d t^{2}} \\theta_{1}{\\left(t \\right)} - l_{2} \\sin{\\left(\\theta_{2}{\\left(t \\right)} \\right)} \\left(\\frac{d}{d t} \\theta_{2}{\\left(t \\right)}\\right)^{2} + l_{2} \\cos{\\left(\\theta_{2}{\\left(t \\right)} \\right)} \\frac{d^{2}}{d t^{2}} \\theta_{2}{\\left(t \\right)}\\right) \\cos{\\left(\\theta_{2}{\\left(t \\right)} \\right)}$"
      ],
      "text/plain": [
       "Eq(m2*(g + l1*sin(\\theta_1(t))*Derivative(\\theta_1(t), (t, 2)) + l1*cos(\\theta_1(t))*Derivative(\\theta_1(t), t)**2 + l2*sin(\\theta_2(t))*Derivative(\\theta_2(t), (t, 2)) + l2*cos(\\theta_2(t))*Derivative(\\theta_2(t), t)**2)*sin(\\theta_2(t)), -m2*(-l1*sin(\\theta_1(t))*Derivative(\\theta_1(t), t)**2 + l1*cos(\\theta_1(t))*Derivative(\\theta_1(t), (t, 2)) - l2*sin(\\theta_2(t))*Derivative(\\theta_2(t), t)**2 + l2*cos(\\theta_2(t))*Derivative(\\theta_2(t), (t, 2)))*cos(\\theta_2(t)))"
      ]
     },
     "execution_count": 6,
     "metadata": {},
     "output_type": "execute_result"
    }
   ],
   "source": [
    "eq2"
   ]
  },
  {
   "cell_type": "code",
   "execution_count": 7,
   "id": "0d7088da",
   "metadata": {},
   "outputs": [
    {
     "data": {
      "text/latex": [
       "$\\displaystyle \\frac{g m_{1} \\sin{\\left(2 \\theta_{1}{\\left(t \\right)} - \\theta_{2}{\\left(t \\right)} \\right)} - g m_{1} \\sin{\\left(\\theta_{2}{\\left(t \\right)} \\right)} + g m_{2} \\sin{\\left(2 \\theta_{1}{\\left(t \\right)} - \\theta_{2}{\\left(t \\right)} \\right)} - g m_{2} \\sin{\\left(\\theta_{2}{\\left(t \\right)} \\right)} + 2 l_{1} m_{1} \\sin{\\left(\\theta_{1}{\\left(t \\right)} - \\theta_{2}{\\left(t \\right)} \\right)} \\left(\\frac{d}{d t} \\theta_{1}{\\left(t \\right)}\\right)^{2} + 2 l_{1} m_{2} \\sin{\\left(\\theta_{1}{\\left(t \\right)} - \\theta_{2}{\\left(t \\right)} \\right)} \\left(\\frac{d}{d t} \\theta_{1}{\\left(t \\right)}\\right)^{2} + l_{2} m_{2} \\sin{\\left(2 \\theta_{1}{\\left(t \\right)} - 2 \\theta_{2}{\\left(t \\right)} \\right)} \\left(\\frac{d}{d t} \\theta_{2}{\\left(t \\right)}\\right)^{2}}{l_{2} \\left(2 m_{1} - m_{2} \\cos{\\left(2 \\theta_{1}{\\left(t \\right)} - 2 \\theta_{2}{\\left(t \\right)} \\right)} + m_{2}\\right)}$"
      ],
      "text/plain": [
       "(g*m1*sin(2*\\theta_1(t) - \\theta_2(t)) - g*m1*sin(\\theta_2(t)) + g*m2*sin(2*\\theta_1(t) - \\theta_2(t)) - g*m2*sin(\\theta_2(t)) + 2*l1*m1*sin(\\theta_1(t) - \\theta_2(t))*Derivative(\\theta_1(t), t)**2 + 2*l1*m2*sin(\\theta_1(t) - \\theta_2(t))*Derivative(\\theta_1(t), t)**2 + l2*m2*sin(2*\\theta_1(t) - 2*\\theta_2(t))*Derivative(\\theta_2(t), t)**2)/(l2*(2*m1 - m2*cos(2*\\theta_1(t) - 2*\\theta_2(t)) + m2))"
      ]
     },
     "execution_count": 7,
     "metadata": {},
     "output_type": "execute_result"
    }
   ],
   "source": [
    "the1_dd = smp.diff(the1_d, t)\n",
    "the2_dd = smp.diff(the2_d, t)\n",
    "solutions = smp.solve([eq1, eq2], the1_dd, the2_dd)\n",
    "solutions[the2_dd].simplify()"
   ]
  },
  {
   "cell_type": "code",
   "execution_count": 8,
   "id": "2a048a45",
   "metadata": {},
   "outputs": [],
   "source": [
    "dw1dt_f = smp.lambdify((t,g,m1,m2,l1,l2,the1,the2,the1_d,the2_d), solutions[the1_dd])\n",
    "dw2dt_f = smp.lambdify((t,g,m1,m2,l1,l2,the1,the2,the1_d,the2_d), solutions[the2_dd])\n",
    "dthe1dt_f = smp.lambdify(the1_d, the1_d)\n",
    "dthe2dt_f = smp.lambdify(the2_d, the2_d)"
   ]
  },
  {
   "cell_type": "code",
   "execution_count": 9,
   "id": "13374f23",
   "metadata": {},
   "outputs": [],
   "source": [
    "def dfdt(f, t, g, m1, m2, l1, l2):\n",
    "    the_1, w1, the_2, w2 = f\n",
    "    return [\n",
    "        dthe1dt_f(w1),\n",
    "        dw1dt_f(t, g, m1, m2, l1, l2, the_1, the_2, w1, w2),\n",
    "        dthe2dt_f(w2),\n",
    "        dw2dt_f(t, g, m1, m2, l1, l2, the_1, the_2, w1, w2),\n",
    "    ]"
   ]
  },
  {
   "cell_type": "code",
   "execution_count": 10,
   "id": "5742576b-f02e-40a6-baef-c6c204ec8f85",
   "metadata": {},
   "outputs": [
    {
     "data": {
      "text/plain": [
       "array([[  3.        ,   2.        ,   1.        ,   1.        ],\n",
       "       [  3.01995319,   1.99079411,   1.00990916,   0.98168194],\n",
       "       [  3.03981903,   1.98253191,   1.01963084,   0.9625248 ],\n",
       "       ...,\n",
       "       [102.35095175,   2.42045499, 293.97488348,  13.80107782],\n",
       "       [102.37486314,   2.3533081 , 294.11279339,  13.76546535],\n",
       "       [102.39785177,   2.23645813, 294.24989219,  13.64002629]])"
      ]
     },
     "execution_count": 10,
     "metadata": {},
     "output_type": "execute_result"
    }
   ],
   "source": [
    "t =  np.linspace(0, 100, 10001)\n",
    "g = 9.81\n",
    "m1 = 2\n",
    "m2 = 1\n",
    "l1 = 2\n",
    "l2 = 1\n",
    "ans = odeint(dfdt, y0=[3, 2, 1, 1], t=t, args=(g, m1, m2, l1, l2))\n",
    "ans1 = odeint(dfdt, y0=[1.50001, 2, 1, 1], t=t, args=(g, m1, m2, l1, l2))\n",
    "ans"
   ]
  },
  {
   "cell_type": "code",
   "execution_count": 11,
   "id": "ce15d255",
   "metadata": {},
   "outputs": [],
   "source": [
    "the_1 = ans.T[0]\n",
    "the_2 = ans.T[2]\n",
    "the_3 = ans1.T[0]\n",
    "the_4 = ans1.T[2]"
   ]
  },
  {
   "cell_type": "code",
   "execution_count": 12,
   "id": "6e6015ac",
   "metadata": {},
   "outputs": [
    {
     "data": {
      "text/plain": [
       "[<matplotlib.lines.Line2D at 0x1da817c57b0>]"
      ]
     },
     "execution_count": 12,
     "metadata": {},
     "output_type": "execute_result"
    },
    {
     "data": {
      "image/png": "[encoded data removed]",
      "text/plain": [
       "<Figure size 640x480 with 1 Axes>"
      ]
     },
     "metadata": {},
     "output_type": "display_data"
    }
   ],
   "source": [
    "plt.plot(t, the_2)"
   ]
  },
  {
   "cell_type": "code",
   "execution_count": 13,
   "id": "43ef8d82",
   "metadata": {},
   "outputs": [],
   "source": [
    "def get_x1y1x2y2(t, the1, the2, l1, l2):\n",
    "    return (l1*np.sin(the1),\n",
    "            -l1*np.cos(the1),\n",
    "            l1*np.sin(the1) + l2*np.sin(the2),\n",
    "            -l1*np.cos(the1) - l2*np.cos(the2))\n",
    "x1, y1, x2, y2 = get_x1y1x2y2(t, the_1, the_2, l1, l2)\n",
    "x3, y3, x4, y4 = get_x1y1x2y2(t, the_3, the_4, l1, l2)"
   ]
  },
  {
   "cell_type": "code",
   "execution_count": null,
   "id": "7d591b2a",
   "metadata": {},
   "outputs": [
    {
     "name": "stderr",
     "output_type": "stream",
     "text": [
      "MovieWriter ffmpeg unavailable; using Pillow instead.\n"
     ]
    }
   ],
   "source": [
    "fig, ax = plt.subplots(1,1, figsize=(8,8))\n",
    "ax.set_axis_off()\n",
    "ax.set_aspect('equal', adjustable='box')\n",
    "ax.set_ylim(-l1-l2 - 0.3, l1+l2 + 0.3)\n",
    "ax.set_xlim(-l1-l2 - 0.3, l1+l2 + 0.3)\n",
    "plt.grid(False)\n",
    "\n",
    "plot_paths1, = ax.plot([], [])\n",
    "plot_paths2, = ax.plot([], [])\n",
    "\n",
    "def update_data(frame):\n",
    "\n",
    "    pend1.set_data([0, x1[frame]], [0, y1[frame]])\n",
    "    mass1.set_data([x1[frame]], [y1[frame]])\n",
    "\n",
    "    pend2.set_data([x1[frame], x2[frame]], [y1[frame], y2[frame]])\n",
    "    mass2.set_data([x2[frame]], [y2[frame]])\n",
    "\n",
    "    pend3.set_data([0, x3[frame]], [0, y3[frame]])\n",
    "    mass3.set_data([x3[frame]], [y3[frame]])\n",
    "\n",
    "    pend4.set_data([x3[frame], x4[frame]], [y3[frame], y4[frame]])\n",
    "    mass4.set_data([x4[frame]], [y4[frame]])\n",
    "\n",
    "    plot_paths1.set_data(x1, y1)\n",
    "    plot_paths2.set_data(x3, y3)\n",
    "    \n",
    "    return pend1, mass1, pend2, mass2, pend3, mass3, pend4, mass4, plot_paths1, plot_paths2\n",
    "\n",
    "\n",
    "pend1, = ax.plot([0, x1[0]], [0, y1[0]], lw=1)\n",
    "mass1, = ax.plot([x1[0]], [y1[0]], 'o', markersize=2*m1, color='green')\n",
    "\n",
    "pend2, = ax.plot([x1[0], x2[0]], [y1[0], y2[0]], lw=1)\n",
    "mass2, = ax.plot([x2[0]], [y2[0]], 'o', markersize=2*m2, color='green')\n",
    "\n",
    "pend3, = ax.plot([0, x3[0]], [0, y3[0]], lw=1)\n",
    "mass3, = ax.plot([x3[0]], [y3[0]], 'o', markersize=2*m1, color='red')\n",
    "\n",
    "pend4, = ax.plot([x3[0], x4[0]], [y3[0], y4[0]], lw=1)\n",
    "mass4, = ax.plot([x4[0]], [y4[0]], 'o', markersize=2*m2, color='red')\n",
    "\n",
    "ani = animation.FuncAnimation(fig, update_data, frames=len(t), interval=25, blit=True)\n",
    "plt.show()"
   ]
  },
  {
   "cell_type": "code",
   "execution_count": null,
   "id": "9eacc73a",
   "metadata": {},
   "outputs": [],
   "source": []
  }
 ],
 "metadata": {
  "kernelspec": {
   "display_name": "py310",
   "language": "python",
   "name": "python3"
  },
  "language_info": {
   "codemirror_mode": {
    "name": "ipython",
    "version": 3
   },
   "file_extension": ".py",
   "mimetype": "text/x-python",
   "name": "python",
   "nbconvert_exporter": "python",
   "pygments_lexer": "ipython3",
   "version": "3.10.16"
  }
 },
 "nbformat": 4,
 "nbformat_minor": 5
}
